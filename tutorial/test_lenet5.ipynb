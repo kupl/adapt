{
 "cells": [
  {
   "cell_type": "markdown",
   "metadata": {},
   "source": [
    "# Testing LeNet-5\n",
    "A tutorial to test LeNet-5 using ADAPT. Before start tutorial, if you use your GPU, the following cell will set tensorflow to use minimal memory."
   ]
  },
  {
   "cell_type": "code",
   "execution_count": null,
   "metadata": {},
   "outputs": [],
   "source": [
    "import tensorflow as tf\n",
    "gpus = tf.config.experimental.list_physical_devices('GPU')\n",
    "if gpus:\n",
    "    try:\n",
    "        tf.config.experimental.set_memory_growth(gpus[0], True)\n",
    "    except RuntimeError as e:\n",
    "        print(e)"
   ]
  },
  {
   "cell_type": "markdown",
   "metadata": {},
   "source": [
    "## Load model to test\n",
    "Here, we use LeNet-5 and we offers how to create a LeNet-5 model."
   ]
  },
  {
   "cell_type": "markdown",
   "metadata": {},
   "source": [
    "### 1. Load MNIST\n",
    "You can easily load MNIST data supplyied by Tensorflow/Keras."
   ]
  },
  {
   "cell_type": "code",
   "execution_count": null,
   "metadata": {},
   "outputs": [],
   "source": [
    "from tensorflow.keras.datasets import mnist\n",
    "from tensorflow.keras.utils import to_categorical"
   ]
  },
  {
   "cell_type": "markdown",
   "metadata": {},
   "source": [
    "Normalize the values of each pixel into 0 and 1, and convert the label to categorical vector."
   ]
  },
  {
   "cell_type": "code",
   "execution_count": null,
   "metadata": {},
   "outputs": [],
   "source": [
    "(x_train, y_train), (x_test, y_test) = mnist.load_data()\n",
    "\n",
    "x_train = x_train.reshape(x_train.shape[0], 28, 28, 1)\n",
    "x_test = x_test.reshape(x_test.shape[0], 28, 28, 1)\n",
    "\n",
    "x_train = x_train.astype('float32')\n",
    "x_test = x_test.astype('float32')\n",
    "x_train /= 255\n",
    "x_test /= 255\n",
    "\n",
    "y_train = to_categorical(y_train, 10)\n",
    "y_test = to_categorical(y_test, 10)"
   ]
  },
  {
   "cell_type": "markdown",
   "metadata": {},
   "source": [
    "### 2. Create model\n",
    "The structure of the model is originally from the following paper:\n",
    "\n",
    "    Gradient-based learning applied to document recognition"
   ]
  },
  {
   "cell_type": "code",
   "execution_count": null,
   "metadata": {},
   "outputs": [],
   "source": [
    "from tensorflow.keras.layers import Activation\n",
    "from tensorflow.keras.layers import Convolution2D\n",
    "from tensorflow.keras.layers import Dense\n",
    "from tensorflow.keras.layers import Flatten\n",
    "from tensorflow.keras.layers import Input\n",
    "from tensorflow.keras.layers import MaxPooling2D\n",
    "from tensorflow.keras.models import Model"
   ]
  },
  {
   "cell_type": "code",
   "execution_count": null,
   "metadata": {},
   "outputs": [],
   "source": [
    "def LeNet5():\n",
    "    \n",
    "    # Input layer.\n",
    "    input_tensor = Input(shape=(28, 28, 1))\n",
    "    \n",
    "    # Block 1.\n",
    "    x = Convolution2D(6, (5, 5), activation='relu', padding='same', name='block1_conv1')(input_tensor)\n",
    "    x = MaxPooling2D(pool_size=(2, 2), name='block1_pool1')(x)\n",
    "    \n",
    "    # Block 2.\n",
    "    x = Convolution2D(16, (5, 5), activation='relu', padding='same', name='block2_conv1')(x)\n",
    "    x = MaxPooling2D(pool_size=(2, 2), name='block2_pool1')(x)\n",
    "    \n",
    "    # Fully connected.\n",
    "    x = Flatten(name='flatten')(x)\n",
    "    x = Dense(120, activation='relu', name='fc1')(x)\n",
    "    x = Dense(84, activation='relu', name='fc2')(x)\n",
    "    x = Dense(10, name='before_softmax')(x)\n",
    "    x = Activation('softmax', name='redictions')(x)\n",
    "    \n",
    "    return Model(input_tensor, x)"
   ]
  },
  {
   "cell_type": "code",
   "execution_count": null,
   "metadata": {},
   "outputs": [],
   "source": [
    "model = LeNet5()\n",
    "model.summary()"
   ]
  },
  {
   "cell_type": "markdown",
   "metadata": {},
   "source": [
    "### 3. Train model\n",
    "Train the model with the adam optimizer for 10 epochs."
   ]
  },
  {
   "cell_type": "code",
   "execution_count": null,
   "metadata": {},
   "outputs": [],
   "source": [
    "model.compile(loss='categorical_crossentropy', optimizer='adam', metrics=['accuracy'])\n",
    "\n",
    "_ = model.fit(x_train, y_train, validation_data=(x_test, y_test), batch_size=256, epochs=10, verbose=1)"
   ]
  },
  {
   "cell_type": "markdown",
   "metadata": {},
   "source": [
    "The final accuracy of the trained model is about 99%."
   ]
  },
  {
   "cell_type": "markdown",
   "metadata": {},
   "source": [
    "## Test using ADAPT\n",
    "From now on, let's test the created model."
   ]
  },
  {
   "cell_type": "markdown",
   "metadata": {},
   "source": [
    "### 1. Choose candidate input\n",
    "In this tutorial, 20 randomly chosen images from the test set will be used.\n",
    "Here is how they look."
   ]
  },
  {
   "cell_type": "code",
   "execution_count": null,
   "metadata": {},
   "outputs": [],
   "source": [
    "import matplotlib.pyplot as plt\n",
    "import numpy as np"
   ]
  },
  {
   "cell_type": "code",
   "execution_count": null,
   "metadata": {},
   "outputs": [],
   "source": [
    "indices = [800, 3433, 3496, 3592, 4322, 4395, 4706, 6101, 6223, 6715, 7190, 7302, 7491, 7715, 8149, 8267, 8608, 9197, 9721, 9795]\n",
    "images = x_test[indices]\n",
    "fig, ax = plt.subplots(1, len(images), figsize=(len(images) * 2, 2))\n",
    "for i, idx in enumerate(indices):\n",
    "    ax[i].set_axis_off()\n",
    "    ax[i].title.set_text(str(np.argmax(y_test[idx])))\n",
    "    ax[i].imshow(np.reshape(images[i], (28, 28)), cmap='gray')\n",
    "plt.show()"
   ]
  },
  {
   "cell_type": "markdown",
   "metadata": {},
   "source": [
    "### 2. Create a fuzzer\n",
    "ADAPT offers various modules (e.g. coverage metrics and neuron selection strategies) that can be used to compose a fuzzer. First thing to do is wrapping Keras model, since all modules in ADAPT uses a Keras model wrapped with the ```adapt.Network``` class."
   ]
  },
  {
   "cell_type": "code",
   "execution_count": null,
   "metadata": {},
   "outputs": [],
   "source": [
    "from adapt import Network"
   ]
  },
  {
   "cell_type": "code",
   "execution_count": null,
   "metadata": {},
   "outputs": [],
   "source": [
    "network = Network(model)"
   ]
  },
  {
   "cell_type": "markdown",
   "metadata": {},
   "source": [
    "Create a neuron coverage with 0.5 as threshold."
   ]
  },
  {
   "cell_type": "code",
   "execution_count": null,
   "metadata": {},
   "outputs": [],
   "source": [
    "from adapt.metric import NC"
   ]
  },
  {
   "cell_type": "code",
   "execution_count": null,
   "metadata": {},
   "outputs": [],
   "source": [
    "metric = NC(0.5)"
   ]
  },
  {
   "cell_type": "markdown",
   "metadata": {},
   "source": [
    "Create an adaptive and parameterized neuron selection strategy introduced in the following paper:\n",
    "\n",
    "    Effective White-box Testing of Deep Neural Networks with Adaptive Neuron-Selection Strategy\n",
    "    \n",
    "Note that the selection strategies and the fuzzers are created for each indivisual input."
   ]
  },
  {
   "cell_type": "code",
   "execution_count": null,
   "metadata": {},
   "outputs": [],
   "source": [
    "from adapt.fuzzer import WhiteBoxFuzzer\n",
    "from adapt.strategy import AdaptiveParameterizedStrategy"
   ]
  },
  {
   "cell_type": "code",
   "execution_count": null,
   "metadata": {},
   "outputs": [],
   "source": [
    "fuzzers = []\n",
    "for image in images:\n",
    "    strategy = AdaptiveParameterizedStrategy(network)\n",
    "    fuzzer = WhiteBoxFuzzer(network, image, metric, strategy)\n",
    "    fuzzers.append(fuzzer)"
   ]
  },
  {
   "cell_type": "markdown",
   "metadata": {},
   "source": [
    "### 3. Start testing\n",
    "The given inputs are tested for 1 minute (20 minutes in total), and only keep the generated inputs with minimum distances."
   ]
  },
  {
   "cell_type": "code",
   "execution_count": null,
   "metadata": {},
   "outputs": [],
   "source": [
    "from datetime import datetime"
   ]
  },
  {
   "cell_type": "code",
   "execution_count": null,
   "metadata": {},
   "outputs": [],
   "source": [
    "print('Fuzzing started at {}.'.format(datetime.now()))\n",
    "archives = [fuzzer.start(minutes=1, append='min_dist') for fuzzer in fuzzers]\n",
    "print('Done')"
   ]
  },
  {
   "cell_type": "markdown",
   "metadata": {},
   "source": [
    "### 4. Testing result\n",
    "Here is the coverage graph."
   ]
  },
  {
   "cell_type": "code",
   "execution_count": null,
   "metadata": {},
   "outputs": [],
   "source": [
    "times = list(range(61))\n",
    "coverages = []\n",
    "for archive in archives:\n",
    "    current_t = 0\n",
    "    coverage = []\n",
    "    for t, cov in archive.timestamp:\n",
    "        if t > current_t:\n",
    "            coverage.append(cov)\n",
    "            current_t += 1\n",
    "    coverages.append(coverage)\n",
    "coverages = np.mean(coverages, axis=0)\n",
    "plt.plot(times, coverages)\n",
    "plt.show()"
   ]
  },
  {
   "cell_type": "markdown",
   "metadata": {},
   "source": [
    "Archive classes stores all the testing result. You can easily see the testing result by following command."
   ]
  },
  {
   "cell_type": "code",
   "execution_count": null,
   "metadata": {},
   "outputs": [],
   "source": [
    "archives[0].summary()"
   ]
  },
  {
   "cell_type": "markdown",
   "metadata": {},
   "source": [
    "Plus, the following is a visualization of some generated images."
   ]
  },
  {
   "cell_type": "code",
   "execution_count": null,
   "metadata": {},
   "outputs": [],
   "source": [
    "fig, ax = plt.subplots(1, len(archives[0].found_labels), figsize=(len(archives[0].found_labels) * 2, 2))\n",
    "for i, label in enumerate(archives[0].found_labels.keys()):\n",
    "    ax[i].set_axis_off()\n",
    "    ax[i].title.set_text(str(label))\n",
    "    ax[i].imshow(np.reshape(archives[0].inputs[label][0], (28, 28)), cmap='gray')\n",
    "plt.show()"
   ]
  }
 ],
 "metadata": {
  "kernelspec": {
   "display_name": "Python 3",
   "language": "python",
   "name": "python3"
  },
  "language_info": {
   "codemirror_mode": {
    "name": "ipython",
    "version": 3
   },
   "file_extension": ".py",
   "mimetype": "text/x-python",
   "name": "python",
   "nbconvert_exporter": "python",
   "pygments_lexer": "ipython3",
   "version": "3.6.9"
  }
 },
 "nbformat": 4,
 "nbformat_minor": 2
}
