{
 "cells": [
  {
   "cell_type": "markdown",
   "metadata": {},
   "source": [
    "# Testing LeNet-5\n",
    "A tutorial to test LeNet-5 using ADAPT. This tutorial notebook is created with a Ubuntu VM with 4 cores and 8GB of memory. Before start tutorial, if you use your GPU, the following cell will set tensorflow to use minimal memory."
   ]
  },
  {
   "cell_type": "code",
   "execution_count": null,
   "metadata": {},
   "outputs": [],
   "source": [
    "import tensorflow as tf\n",
    "gpus = tf.config.experimental.list_physical_devices('GPU')\n",
    "if gpus:\n",
    "    try:\n",
    "        tf.config.experimental.set_memory_growth(gpus[0], True)\n",
    "    except RuntimeError as e:\n",
    "        print(e)"
   ]
  },
  {
   "cell_type": "markdown",
   "metadata": {},
   "source": [
    "## Load model to test\n",
    "Here, we use LeNet-5 and we offers how to create a LeNet-5 model."
   ]
  },
  {
   "cell_type": "markdown",
   "metadata": {},
   "source": [
    "### 1. Load MNIST\n",
    "You can easily load MNIST data supplyied by Tensorflow/Keras."
   ]
  },
  {
   "cell_type": "code",
   "execution_count": 1,
   "metadata": {},
   "outputs": [],
   "source": [
    "from tensorflow.keras.datasets import mnist\n",
    "from tensorflow.keras.utils import to_categorical"
   ]
  },
  {
   "cell_type": "markdown",
   "metadata": {},
   "source": [
    "Normalize the values of each pixel into 0 and 1, and convert the label to categorical vector."
   ]
  },
  {
   "cell_type": "code",
   "execution_count": 2,
   "metadata": {},
   "outputs": [
    {
     "name": "stdout",
     "output_type": "stream",
     "text": [
      "Downloading data from https://storage.googleapis.com/tensorflow/tf-keras-datasets/mnist.npz\n",
      "11493376/11490434 [==============================] - 1s 0us/step\n"
     ]
    }
   ],
   "source": [
    "(x_train, y_train), (x_test, y_test) = mnist.load_data()\n",
    "\n",
    "x_train = x_train.reshape(x_train.shape[0], 28, 28, 1)\n",
    "x_test = x_test.reshape(x_test.shape[0], 28, 28, 1)\n",
    "\n",
    "x_train = x_train.astype('float32')\n",
    "x_test = x_test.astype('float32')\n",
    "x_train /= 255\n",
    "x_test /= 255\n",
    "\n",
    "y_train = to_categorical(y_train, 10)\n",
    "y_test = to_categorical(y_test, 10)"
   ]
  },
  {
   "cell_type": "markdown",
   "metadata": {},
   "source": [
    "### 2. Create model\n",
    "The structure of the model is originally from the following paper:\n",
    "\n",
    "    Gradient-based learning applied to document recognition"
   ]
  },
  {
   "cell_type": "code",
   "execution_count": 3,
   "metadata": {},
   "outputs": [],
   "source": [
    "from tensorflow.keras.layers import Activation\n",
    "from tensorflow.keras.layers import Convolution2D\n",
    "from tensorflow.keras.layers import Dense\n",
    "from tensorflow.keras.layers import Flatten\n",
    "from tensorflow.keras.layers import Input\n",
    "from tensorflow.keras.layers import MaxPooling2D\n",
    "from tensorflow.keras.models import Model"
   ]
  },
  {
   "cell_type": "code",
   "execution_count": 4,
   "metadata": {},
   "outputs": [],
   "source": [
    "def LeNet5():\n",
    "    \n",
    "    # Input layer.\n",
    "    input_tensor = Input(shape=(28, 28, 1))\n",
    "    \n",
    "    # Block 1.\n",
    "    x = Convolution2D(6, (5, 5), activation='relu', padding='same', name='block1_conv1')(input_tensor)\n",
    "    x = MaxPooling2D(pool_size=(2, 2), name='block1_pool1')(x)\n",
    "    \n",
    "    # Block 2.\n",
    "    x = Convolution2D(16, (5, 5), activation='relu', padding='same', name='block2_conv1')(x)\n",
    "    x = MaxPooling2D(pool_size=(2, 2), name='block2_pool1')(x)\n",
    "    \n",
    "    # Fully connected.\n",
    "    x = Flatten(name='flatten')(x)\n",
    "    x = Dense(120, activation='relu', name='fc1')(x)\n",
    "    x = Dense(84, activation='relu', name='fc2')(x)\n",
    "    x = Dense(10, name='before_softmax')(x)\n",
    "    x = Activation('softmax', name='redictions')(x)\n",
    "    \n",
    "    return Model(input_tensor, x)"
   ]
  },
  {
   "cell_type": "code",
   "execution_count": 5,
   "metadata": {},
   "outputs": [
    {
     "name": "stdout",
     "output_type": "stream",
     "text": [
      "Model: \"model\"\n",
      "_________________________________________________________________\n",
      "Layer (type)                 Output Shape              Param #   \n",
      "=================================================================\n",
      "input_1 (InputLayer)         [(None, 28, 28, 1)]       0         \n",
      "_________________________________________________________________\n",
      "block1_conv1 (Conv2D)        (None, 28, 28, 6)         156       \n",
      "_________________________________________________________________\n",
      "block1_pool1 (MaxPooling2D)  (None, 14, 14, 6)         0         \n",
      "_________________________________________________________________\n",
      "block2_conv1 (Conv2D)        (None, 14, 14, 16)        2416      \n",
      "_________________________________________________________________\n",
      "block2_pool1 (MaxPooling2D)  (None, 7, 7, 16)          0         \n",
      "_________________________________________________________________\n",
      "flatten (Flatten)            (None, 784)               0         \n",
      "_________________________________________________________________\n",
      "fc1 (Dense)                  (None, 120)               94200     \n",
      "_________________________________________________________________\n",
      "fc2 (Dense)                  (None, 84)                10164     \n",
      "_________________________________________________________________\n",
      "before_softmax (Dense)       (None, 10)                850       \n",
      "_________________________________________________________________\n",
      "redictions (Activation)      (None, 10)                0         \n",
      "=================================================================\n",
      "Total params: 107,786\n",
      "Trainable params: 107,786\n",
      "Non-trainable params: 0\n",
      "_________________________________________________________________\n"
     ]
    }
   ],
   "source": [
    "model = LeNet5()\n",
    "model.summary()"
   ]
  },
  {
   "cell_type": "markdown",
   "metadata": {},
   "source": [
    "### 3. Train model\n",
    "Train the model with the adam optimizer for 10 epochs."
   ]
  },
  {
   "cell_type": "code",
   "execution_count": 6,
   "metadata": {},
   "outputs": [
    {
     "name": "stdout",
     "output_type": "stream",
     "text": [
      "Epoch 1/10\n",
      "235/235 [==============================] - 17s 74ms/step - loss: 0.4278 - accuracy: 0.8793 - val_loss: 0.1492 - val_accuracy: 0.9528\n",
      "Epoch 2/10\n",
      "235/235 [==============================] - 15s 63ms/step - loss: 0.1044 - accuracy: 0.9675 - val_loss: 0.0759 - val_accuracy: 0.9764\n",
      "Epoch 3/10\n",
      "235/235 [==============================] - 15s 63ms/step - loss: 0.0666 - accuracy: 0.9792 - val_loss: 0.0517 - val_accuracy: 0.9827\n",
      "Epoch 4/10\n",
      "235/235 [==============================] - 15s 63ms/step - loss: 0.0512 - accuracy: 0.9842 - val_loss: 0.0430 - val_accuracy: 0.9853\n",
      "Epoch 5/10\n",
      "235/235 [==============================] - 14s 61ms/step - loss: 0.0432 - accuracy: 0.9862 - val_loss: 0.0360 - val_accuracy: 0.9869\n",
      "Epoch 6/10\n",
      "235/235 [==============================] - 17s 70ms/step - loss: 0.0367 - accuracy: 0.9882 - val_loss: 0.0442 - val_accuracy: 0.9840\n",
      "Epoch 7/10\n",
      "235/235 [==============================] - 16s 66ms/step - loss: 0.0319 - accuracy: 0.9900 - val_loss: 0.0412 - val_accuracy: 0.9852\n",
      "Epoch 8/10\n",
      "235/235 [==============================] - 15s 65ms/step - loss: 0.0280 - accuracy: 0.9909 - val_loss: 0.0293 - val_accuracy: 0.9893\n",
      "Epoch 9/10\n",
      "235/235 [==============================] - 15s 63ms/step - loss: 0.0238 - accuracy: 0.9920 - val_loss: 0.0264 - val_accuracy: 0.9901\n",
      "Epoch 10/10\n",
      "235/235 [==============================] - 15s 64ms/step - loss: 0.0210 - accuracy: 0.9931 - val_loss: 0.0252 - val_accuracy: 0.9911\n"
     ]
    }
   ],
   "source": [
    "model.compile(loss='categorical_crossentropy', optimizer='adam', metrics=['accuracy'])\n",
    "\n",
    "_ = model.fit(x_train, y_train, validation_data=(x_test, y_test), batch_size=256, epochs=10, verbose=1)"
   ]
  },
  {
   "cell_type": "markdown",
   "metadata": {},
   "source": [
    "The final accuracy of the trained model is about 99%."
   ]
  },
  {
   "cell_type": "markdown",
   "metadata": {},
   "source": [
    "## Test using ADAPT\n",
    "From now on, let's test the created model."
   ]
  },
  {
   "cell_type": "markdown",
   "metadata": {},
   "source": [
    "### 1. Choose candidate input\n",
    "In this tutorial, 20 chosen images from the test set will be used.\n",
    "The chosen images are randomly sampled by the authors of the following paper:\n",
    "\n",
    "    Effective White-Box Testing of Deep Neural Networks with Adaptive Neuron-Selection Strategy\n",
    "\n",
    "Here is how they look."
   ]
  },
  {
   "cell_type": "code",
   "execution_count": 7,
   "metadata": {},
   "outputs": [],
   "source": [
    "import matplotlib.pyplot as plt\n",
    "import numpy as np"
   ]
  },
  {
   "cell_type": "code",
   "execution_count": 8,
   "metadata": {},
   "outputs": [
    {
     "data": {
      "image/png": "[encoded data removed]",
      "text/plain": [
       "<Figure size 2880x144 with 20 Axes>"
      ]
     },
     "metadata": {
      "needs_background": "light"
     },
     "output_type": "display_data"
    }
   ],
   "source": [
    "indices = [800, 3433, 3496, 3592, 4322, 4395, 4706, 6101, 6223, 6715, 7190, 7302, 7491, 7715, 8149, 8267, 8608, 9197, 9721, 9795]\n",
    "images = x_test[indices]\n",
    "fig, ax = plt.subplots(1, len(images), figsize=(len(images) * 2, 2))\n",
    "for i, idx in enumerate(indices):\n",
    "    ax[i].set_axis_off()\n",
    "    ax[i].title.set_text(str(np.argmax(y_test[idx])))\n",
    "    ax[i].imshow(np.reshape(images[i], (28, 28)), cmap='gray')\n",
    "plt.show()"
   ]
  },
  {
   "cell_type": "markdown",
   "metadata": {},
   "source": [
    "### 2. Create a fuzzer\n",
    "ADAPT offers various modules (e.g. coverage metrics and neuron selection strategies) that can be used to compose a fuzzer. First thing to do is wrapping Keras model, since all modules in ADAPT use a Keras model wrapped with the ```adapt.Network``` class."
   ]
  },
  {
   "cell_type": "code",
   "execution_count": 9,
   "metadata": {},
   "outputs": [],
   "source": [
    "from adapt import Network"
   ]
  },
  {
   "cell_type": "code",
   "execution_count": 10,
   "metadata": {},
   "outputs": [],
   "source": [
    "network = Network(model)"
   ]
  },
  {
   "cell_type": "markdown",
   "metadata": {},
   "source": [
    "Create a neuron coverage with 0.5 as threshold."
   ]
  },
  {
   "cell_type": "code",
   "execution_count": 11,
   "metadata": {},
   "outputs": [],
   "source": [
    "from adapt.metric import NC"
   ]
  },
  {
   "cell_type": "code",
   "execution_count": 12,
   "metadata": {},
   "outputs": [],
   "source": [
    "metric = NC(0.5)"
   ]
  },
  {
   "cell_type": "markdown",
   "metadata": {},
   "source": [
    "Create an adaptive and parameterized neuron selection strategy introduced in the following paper:\n",
    "\n",
    "    Effective White-Box Testing of Deep Neural Networks with Adaptive Neuron-Selection Strategy\n",
    "    \n",
    "Note that the selection strategies and the fuzzers are created for each indivisual input."
   ]
  },
  {
   "cell_type": "code",
   "execution_count": 13,
   "metadata": {},
   "outputs": [],
   "source": [
    "from adapt.fuzzer import WhiteBoxFuzzer\n",
    "from adapt.strategy import AdaptiveParameterizedStrategy"
   ]
  },
  {
   "cell_type": "code",
   "execution_count": 14,
   "metadata": {},
   "outputs": [],
   "source": [
    "fuzzers_adapt = []\n",
    "for image in images:\n",
    "    strategy = AdaptiveParameterizedStrategy(network)\n",
    "    fuzzer = WhiteBoxFuzzer(network, image, metric, strategy)\n",
    "    fuzzers_adapt.append(fuzzer)"
   ]
  },
  {
   "cell_type": "markdown",
   "metadata": {},
   "source": [
    "For comparision, fuzzers with random strategy, which selects neurons randomly, are used."
   ]
  },
  {
   "cell_type": "code",
   "execution_count": 15,
   "metadata": {},
   "outputs": [],
   "source": [
    "from adapt.strategy import RandomStrategy"
   ]
  },
  {
   "cell_type": "code",
   "execution_count": 16,
   "metadata": {},
   "outputs": [],
   "source": [
    "fuzzers_rand = []\n",
    "for image in images:\n",
    "    strategy = RandomStrategy(network)\n",
    "    fuzzer = WhiteBoxFuzzer(network, image, metric, strategy)\n",
    "    fuzzers_rand.append(fuzzer)"
   ]
  },
  {
   "cell_type": "markdown",
   "metadata": {},
   "source": [
    "### 3. Start testing\n",
    "Each input is tested for 1 minute (20 minutes in total for one strategy), and only keep the generated inputs with minimum distances."
   ]
  },
  {
   "cell_type": "code",
   "execution_count": 17,
   "metadata": {},
   "outputs": [],
   "source": [
    "from datetime import datetime"
   ]
  },
  {
   "cell_type": "code",
   "execution_count": 18,
   "metadata": {},
   "outputs": [
    {
     "name": "stdout",
     "output_type": "stream",
     "text": [
      "Fuzzing with adaptive parameterized strategy started at 2020-07-01 11:45:12.428189.\n",
      "Done\n"
     ]
    }
   ],
   "source": [
    "print('Fuzzing with adaptive parameterized strategy started at {}.'.format(datetime.now()))\n",
    "archives_adapt = [fuzzer.start(minutes=1, append='min_dist') for fuzzer in fuzzers_adapt]\n",
    "print('Done')"
   ]
  },
  {
   "cell_type": "code",
   "execution_count": 19,
   "metadata": {},
   "outputs": [
    {
     "name": "stdout",
     "output_type": "stream",
     "text": [
      "Fuzzing with random strategy started at 2020-07-01 12:05:12.834440.\n",
      "Done\n"
     ]
    }
   ],
   "source": [
    "print('Fuzzing with random strategy started at {}.'.format(datetime.now()))\n",
    "archives_rand = [fuzzer.start(minutes=1, append='min_dist') for fuzzer in fuzzers_rand]\n",
    "print('Done')"
   ]
  },
  {
   "cell_type": "markdown",
   "metadata": {},
   "source": [
    "### 4. Testing result\n",
    "Here is the coverage graph."
   ]
  },
  {
   "cell_type": "code",
   "execution_count": 20,
   "metadata": {},
   "outputs": [
    {
     "data": {
      "image/png": "[encoded data removed]",
      "text/plain": [
       "<Figure size 432x288 with 1 Axes>"
      ]
     },
     "metadata": {
      "needs_background": "light"
     },
     "output_type": "display_data"
    }
   ],
   "source": [
    "times = list(range(61))\n",
    "coverages = []\n",
    "for archive in archives_adapt:\n",
    "    current_t = 0\n",
    "    coverage = []\n",
    "    for t, cov in archive.timestamp:\n",
    "        if t > current_t:\n",
    "            coverage.append(cov)\n",
    "            current_t += 1\n",
    "    coverages.append(coverage)\n",
    "coverages = np.mean(coverages, axis=0)\n",
    "plt.plot(times, coverages, label='adapt')\n",
    "coverages = []\n",
    "for archive in archives_rand:\n",
    "    current_t = 0\n",
    "    coverage = []\n",
    "    for t, cov in archive.timestamp:\n",
    "        if t > current_t:\n",
    "            coverage.append(cov)\n",
    "            current_t += 1\n",
    "    coverages.append(coverage)\n",
    "coverages = np.mean(coverages, axis=0)\n",
    "plt.plot(times, coverages, label='rand')\n",
    "plt.suptitle('lenet5')\n",
    "plt.legend()\n",
    "plt.show()"
   ]
  },
  {
   "cell_type": "markdown",
   "metadata": {},
   "source": [
    "Archive classes stores all the testing result. You can easily see the testing result by following command."
   ]
  },
  {
   "cell_type": "code",
   "execution_count": 21,
   "metadata": {},
   "outputs": [
    {
     "name": "stdout",
     "output_type": "stream",
     "text": [
      "----------\n",
      "Total inputs: 3590\n",
      "  Average distance: 0.10337266325950623\n",
      "Total adversarials: 761\n",
      "  Average distance: 0.19320125877857208\n",
      "Coverage\n",
      "  Original: 0.20155038759689922\n",
      "  Achieved: 0.6356589147286822\n",
      "----------\n",
      "Original label: 8\n",
      "  Count: 2829\n",
      "  Average distance: 0.07920879870653152\n",
      "----------\n",
      "Label: 5\n",
      "  Count: 110\n",
      "  Average distance: 0.20951449871063232\n",
      "----------\n",
      "Label: 0\n",
      "  Count: 101\n",
      "  Average distance: 0.2089652419090271\n",
      "----------\n",
      "Label: 2\n",
      "  Count: 4\n",
      "  Average distance: 0.23208466172218323\n",
      "----------\n",
      "Label: 7\n",
      "  Count: 11\n",
      "  Average distance: 0.37111905217170715\n",
      "----------\n",
      "Label: 4\n",
      "  Count: 6\n",
      "  Average distance: 0.4053909480571747\n",
      "----------\n",
      "Label: 6\n",
      "  Count: 302\n",
      "  Average distance: 0.15730032324790955\n",
      "----------\n",
      "Label: 3\n",
      "  Count: 220\n",
      "  Average distance: 0.21198512613773346\n",
      "----------\n",
      "Label: 9\n",
      "  Count: 7\n",
      "  Average distance: 0.18423578143119812\n",
      "----------\n"
     ]
    }
   ],
   "source": [
    "archives_adapt[0].summary()"
   ]
  },
  {
   "cell_type": "markdown",
   "metadata": {},
   "source": [
    "Plus, the following is a visualization of some generated images."
   ]
  },
  {
   "cell_type": "code",
   "execution_count": 22,
   "metadata": {},
   "outputs": [
    {
     "data": {
      "image/png": "[encoded data removed]",
      "text/plain": [
       "<Figure size 1296x144 with 9 Axes>"
      ]
     },
     "metadata": {
      "needs_background": "light"
     },
     "output_type": "display_data"
    }
   ],
   "source": [
    "fig, ax = plt.subplots(1, len(archives_adapt[0].found_labels), figsize=(len(archives_adapt[0].found_labels) * 2, 2))\n",
    "for i, label in enumerate(archives_adapt[0].found_labels.keys()):\n",
    "    ax[i].set_axis_off()\n",
    "    ax[i].title.set_text(str(label))\n",
    "    ax[i].imshow(np.reshape(archives_adapt[0].inputs[label][0], (28, 28)).clip(0, 1), cmap='gray')\n",
    "plt.show()"
   ]
  }
 ],
 "metadata": {
  "kernelspec": {
   "display_name": "Python 3",
   "language": "python",
   "name": "python3"
  },
  "language_info": {
   "codemirror_mode": {
    "name": "ipython",
    "version": 3
   },
   "file_extension": ".py",
   "mimetype": "text/x-python",
   "name": "python",
   "nbconvert_exporter": "python",
   "pygments_lexer": "ipython3",
   "version": "3.6.9"
  }
 },
 "nbformat": 4,
 "nbformat_minor": 2
}
